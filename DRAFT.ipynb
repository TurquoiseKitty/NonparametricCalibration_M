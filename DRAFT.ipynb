{
 "cells": [
  {
   "cell_type": "code",
   "execution_count": 2,
   "id": "f766bded",
   "metadata": {},
   "outputs": [
    {
     "data": {
      "text/plain": [
       "array([[0.        , 4.12310563, 2.82842712, 9.43398113, 6.70820393],\n",
       "       [4.12310563, 0.        , 2.23606798, 7.07106781, 5.09901951],\n",
       "       [2.82842712, 2.23606798, 0.        , 6.70820393, 4.12310563]])"
      ]
     },
     "execution_count": 2,
     "metadata": {},
     "output_type": "execute_result"
    }
   ],
   "source": [
    "from sklearn.metrics import pairwise_distances\n",
    "import numpy as np\n",
    "\n",
    "x = np.array([\n",
    "    [1, 4],\n",
    "    [2, 8],\n",
    "    [3, 6]\n",
    "])\n",
    "\n",
    "y = np.array([\n",
    "    [1, 4],\n",
    "    [2, 8],\n",
    "    [3, 6],\n",
    "    [9, 9],\n",
    "    [7, 7]\n",
    "])\n",
    "\n",
    "pairwise_distances(x, y)"
   ]
  },
  {
   "cell_type": "code",
   "execution_count": null,
   "id": "d5131ef2",
   "metadata": {},
   "outputs": [],
   "source": []
  }
 ],
 "metadata": {
  "kernelspec": {
   "display_name": "Python 3 (ipykernel)",
   "language": "python",
   "name": "python3"
  },
  "language_info": {
   "codemirror_mode": {
    "name": "ipython",
    "version": 3
   },
   "file_extension": ".py",
   "mimetype": "text/x-python",
   "name": "python",
   "nbconvert_exporter": "python",
   "pygments_lexer": "ipython3",
   "version": "3.9.13"
  }
 },
 "nbformat": 4,
 "nbformat_minor": 5
}
