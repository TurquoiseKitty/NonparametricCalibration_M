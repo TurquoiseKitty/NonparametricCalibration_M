{
 "cells": [
  {
   "cell_type": "code",
   "execution_count": 1,
   "id": "f766bded",
   "metadata": {},
   "outputs": [
    {
     "data": {
      "text/plain": [
       "array([[-9.80580676e-01, -1.22474487e+00,  9.05357460e-02],\n",
       "       [-3.92232270e-01,  1.22474487e+00, -1.26750044e+00],\n",
       "       [ 1.37281295e+00, -3.39934989e-16,  1.17696470e+00]])"
      ]
     },
     "execution_count": 1,
     "metadata": {},
     "output_type": "execute_result"
    }
   ],
   "source": [
    "import numpy as np\n",
    "from sklearn.preprocessing import StandardScaler\n",
    "\n",
    "\n",
    "def normalize(data):\n",
    "    \n",
    "    normalizer = StandardScaler().fit(data)\n",
    "    \n",
    "    return normalizer.transform(data), normalizer\n",
    "\n",
    "x = np.array([\n",
    "    [100, 0.1, -4],\n",
    "    [200, 0.3, -9],\n",
    "    [500, 0.2, 0]\n",
    "])\n",
    "x_normed, x_normalizer = normalize(x)\n",
    "\n",
    "x_normed"
   ]
  },
  {
   "cell_type": "code",
   "execution_count": 4,
   "id": "00d5a9cf",
   "metadata": {},
   "outputs": [
    {
     "data": {
      "text/plain": [
       "1594"
      ]
     },
     "execution_count": 4,
     "metadata": {},
     "output_type": "execute_result"
    }
   ],
   "source": [
    "lenni = 3987\n",
    "tr_re_va_te = np.array([0.4, 0.4, 0.1, 0.1])\n",
    "\n",
    "N_train, N_recal, N_val, N_test = (lenni * tr_re_va_te).astype(int)\n",
    "N_train                      "
   ]
  },
  {
   "cell_type": "code",
   "execution_count": 8,
   "id": "bd6dc6ee",
   "metadata": {},
   "outputs": [
    {
     "data": {
      "text/plain": [
       "tensor(1.)"
      ]
     },
     "execution_count": 8,
     "metadata": {},
     "output_type": "execute_result"
    }
   ],
   "source": [
    "import torch\n",
    "\n",
    "Y = torch.Tensor([1, 9, 4, 2])\n",
    "\n",
    "upp = torch.Tensor([3,3,3,3])\n",
    "low = torch.Tensor([1,1,1,1])\n",
    "\n",
    "((Y < upp) & (Y > low)).float().sum()"
   ]
  },
  {
   "cell_type": "code",
   "execution_count": 1,
   "id": "f7cd557c",
   "metadata": {},
   "outputs": [
    {
     "data": {
      "text/plain": [
       "array([0.01      , 0.01989899, 0.02979798, 0.03969697, 0.04959596,\n",
       "       0.05949495, 0.06939394, 0.07929293, 0.08919192, 0.09909091,\n",
       "       0.1089899 , 0.11888889, 0.12878788, 0.13868687, 0.14858586,\n",
       "       0.15848485, 0.16838384, 0.17828283, 0.18818182, 0.19808081,\n",
       "       0.2079798 , 0.21787879, 0.22777778, 0.23767677, 0.24757576,\n",
       "       0.25747475, 0.26737374, 0.27727273, 0.28717172, 0.29707071,\n",
       "       0.3069697 , 0.31686869, 0.32676768, 0.33666667, 0.34656566,\n",
       "       0.35646465, 0.36636364, 0.37626263, 0.38616162, 0.39606061,\n",
       "       0.4059596 , 0.41585859, 0.42575758, 0.43565657, 0.44555556,\n",
       "       0.45545455, 0.46535354, 0.47525253, 0.48515152, 0.49505051,\n",
       "       0.50494949, 0.51484848, 0.52474747, 0.53464646, 0.54454545,\n",
       "       0.55444444, 0.56434343, 0.57424242, 0.58414141, 0.5940404 ,\n",
       "       0.60393939, 0.61383838, 0.62373737, 0.63363636, 0.64353535,\n",
       "       0.65343434, 0.66333333, 0.67323232, 0.68313131, 0.6930303 ,\n",
       "       0.70292929, 0.71282828, 0.72272727, 0.73262626, 0.74252525,\n",
       "       0.75242424, 0.76232323, 0.77222222, 0.78212121, 0.7920202 ,\n",
       "       0.80191919, 0.81181818, 0.82171717, 0.83161616, 0.84151515,\n",
       "       0.85141414, 0.86131313, 0.87121212, 0.88111111, 0.8910101 ,\n",
       "       0.90090909, 0.91080808, 0.92070707, 0.93060606, 0.94050505,\n",
       "       0.95040404, 0.96030303, 0.97020202, 0.98010101, 0.99      ])"
      ]
     },
     "execution_count": 1,
     "metadata": {},
     "output_type": "execute_result"
    }
   ],
   "source": [
    "import numpy as np\n",
    "\n",
    "np.linspace(0.01, 0.99, 100)"
   ]
  },
  {
   "cell_type": "code",
   "execution_count": null,
   "id": "42cb7b35",
   "metadata": {},
   "outputs": [],
   "source": []
  }
 ],
 "metadata": {
  "kernelspec": {
   "display_name": "Python 3 (ipykernel)",
   "language": "python",
   "name": "python3"
  },
  "language_info": {
   "codemirror_mode": {
    "name": "ipython",
    "version": 3
   },
   "file_extension": ".py",
   "mimetype": "text/x-python",
   "name": "python",
   "nbconvert_exporter": "python",
   "pygments_lexer": "ipython3",
   "version": "3.9.13"
  }
 },
 "nbformat": 4,
 "nbformat_minor": 5
}
