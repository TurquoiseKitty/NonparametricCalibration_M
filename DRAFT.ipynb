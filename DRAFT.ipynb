{
 "cells": [
  {
   "cell_type": "code",
   "execution_count": 1,
   "id": "f766bded",
   "metadata": {},
   "outputs": [
    {
     "data": {
      "text/plain": [
       "array([[-9.80580676e-01, -1.22474487e+00,  9.05357460e-02],\n",
       "       [-3.92232270e-01,  1.22474487e+00, -1.26750044e+00],\n",
       "       [ 1.37281295e+00, -3.39934989e-16,  1.17696470e+00]])"
      ]
     },
     "execution_count": 1,
     "metadata": {},
     "output_type": "execute_result"
    }
   ],
   "source": [
    "import numpy as np\n",
    "from sklearn.preprocessing import StandardScaler\n",
    "\n",
    "\n",
    "def normalize(data):\n",
    "    \n",
    "    normalizer = StandardScaler().fit(data)\n",
    "    \n",
    "    return normalizer.transform(data), normalizer\n",
    "\n",
    "x = np.array([\n",
    "    [100, 0.1, -4],\n",
    "    [200, 0.3, -9],\n",
    "    [500, 0.2, 0]\n",
    "])\n",
    "x_normed, x_normalizer = normalize(x)\n",
    "\n",
    "x_normed"
   ]
  },
  {
   "cell_type": "code",
   "execution_count": 4,
   "id": "00d5a9cf",
   "metadata": {},
   "outputs": [
    {
     "data": {
      "text/plain": [
       "1594"
      ]
     },
     "execution_count": 4,
     "metadata": {},
     "output_type": "execute_result"
    }
   ],
   "source": [
    "lenni = 3987\n",
    "tr_re_va_te = np.array([0.4, 0.4, 0.1, 0.1])\n",
    "\n",
    "N_train, N_recal, N_val, N_test = (lenni * tr_re_va_te).astype(int)\n",
    "N_train                      "
   ]
  },
  {
   "cell_type": "code",
   "execution_count": null,
   "id": "bd6dc6ee",
   "metadata": {},
   "outputs": [],
   "source": []
  }
 ],
 "metadata": {
  "kernelspec": {
   "display_name": "Python 3 (ipykernel)",
   "language": "python",
   "name": "python3"
  },
  "language_info": {
   "codemirror_mode": {
    "name": "ipython",
    "version": 3
   },
   "file_extension": ".py",
   "mimetype": "text/x-python",
   "name": "python",
   "nbconvert_exporter": "python",
   "pygments_lexer": "ipython3",
   "version": "3.9.13"
  }
 },
 "nbformat": 4,
 "nbformat_minor": 5
}
